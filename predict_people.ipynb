{
 "cells": [
  {
   "cell_type": "markdown",
   "metadata": {},
   "source": [
    "# base on faceNet model"
   ]
  },
  {
   "cell_type": "code",
   "execution_count": 3,
   "metadata": {
    "collapsed": true
   },
   "outputs": [],
   "source": [
    "from __future__ import absolute_import\n",
    "from __future__ import division\n",
    "from __future__ import print_function\n",
    "\n",
    "import tensorflow as tf\n",
    "import numpy as np\n",
    "import argparse\n",
    "import facenet\n",
    "import os\n",
    "import sys\n",
    "import math\n",
    "import pickle\n",
    "from sklearn.svm import SVC"
   ]
  },
  {
   "cell_type": "code",
   "execution_count": 4,
   "metadata": {
    "collapsed": true
   },
   "outputs": [],
   "source": [
    "import os\n",
    "from shutil import copyfile"
   ]
  },
  {
   "cell_type": "markdown",
   "metadata": {},
   "source": [
    "# show image in plot"
   ]
  },
  {
   "cell_type": "code",
   "execution_count": 3,
   "metadata": {
    "collapsed": true
   },
   "outputs": [],
   "source": [
    "import matplotlib.pyplot as plt\n",
    "import matplotlib.gridspec as gridspec\n",
    "import matplotlib.image as mimage\n",
    "from matplotlib.backends.backend_pdf import PdfPages\n"
   ]
  },
  {
   "cell_type": "code",
   "execution_count": 5,
   "metadata": {
    "collapsed": true
   },
   "outputs": [],
   "source": [
    "mode = 'CLASSIFY'\n",
    "# \".pkl\"\n",
    "classifier_filename = 'C:/Users/VIPLAB/models/facenet/20171208_only_3image_8people.pkl'\n",
    "# \".pb\"\n",
    "model = 'C:/Users/VIPLAB/models/facenet/20171208_only_3image_8people.pb'\n",
    "# dataset\n",
    "data_dir = \"../xiao_face_dataset_only_face_test/\"\n",
    "train_data_dir = \"../xiao_face_dataset_only_face/\"\n",
    "\n",
    "batch_size = 1000\n",
    "image_size = 160"
   ]
  },
  {
   "cell_type": "code",
   "execution_count": 6,
   "metadata": {},
   "outputs": [],
   "source": [
    "classes = os.listdir(train_data_dir)\n",
    "classes.sort()"
   ]
  },
  {
   "cell_type": "code",
   "execution_count": 7,
   "metadata": {},
   "outputs": [
    {
     "data": {
      "text/plain": [
       "['劉宴任', '宋俊樺', '林彥丞', '林詠翔', '柳威寧', '聶誠漢', '陳仕傑', '陳廷冠']"
      ]
     },
     "execution_count": 7,
     "metadata": {},
     "output_type": "execute_result"
    }
   ],
   "source": [
    "classes"
   ]
  },
  {
   "cell_type": "code",
   "execution_count": null,
   "metadata": {
    "scrolled": true
   },
   "outputs": [
    {
     "name": "stderr",
     "output_type": "stream",
     "text": [
      "<ipython-input-6-b5d7f540d50f>:13: SyntaxWarning: assertion is always true, perhaps remove parentheses?\n",
      "  assert(len(cls.image_paths)>0, 'There must be at least one image for each class in the dataset')\n"
     ]
    },
    {
     "name": "stdout",
     "output_type": "stream",
     "text": [
      "Number of classes: 8\n",
      "Number of images: 33\n",
      "paths: ['../xiao_face_dataset_only_face_test/劉宴任\\\\#東港Day1_6767.png', '../xiao_face_dataset_only_face_test/劉宴任\\\\IMG_0410.png', '../xiao_face_dataset_only_face_test/劉宴任\\\\IMG_0414.png', '../xiao_face_dataset_only_face_test/劉宴任\\\\IMG_0439.png', '../xiao_face_dataset_only_face_test/劉宴任\\\\IMG_0476.png', '../xiao_face_dataset_only_face_test/劉宴任\\\\IMG_0496.png', '../xiao_face_dataset_only_face_test/劉宴任\\\\received_1435010106516899.png', '../xiao_face_dataset_only_face_test/劉宴任\\\\received_1857349154501660.png', '../xiao_face_dataset_only_face_test/宋俊樺\\\\IMG_0443.png', '../xiao_face_dataset_only_face_test/宋俊樺\\\\IMG_0449.png', '../xiao_face_dataset_only_face_test/宋俊樺\\\\IMG_0450.png', '../xiao_face_dataset_only_face_test/宋俊樺\\\\IMG_0457.png', '../xiao_face_dataset_only_face_test/宋俊樺\\\\IMG_0474.png', '../xiao_face_dataset_only_face_test/林彥丞\\\\#東港Day1_120.png', '../xiao_face_dataset_only_face_test/林彥丞\\\\IMG_0425.png', '../xiao_face_dataset_only_face_test/林彥丞\\\\received_1271430679544850.png', '../xiao_face_dataset_only_face_test/林彥丞\\\\received_1272402549447663.png', '../xiao_face_dataset_only_face_test/林詠翔\\\\IMG_6562.png', '../xiao_face_dataset_only_face_test/林詠翔\\\\IMG_6711.png', '../xiao_face_dataset_only_face_test/林詠翔\\\\IMG_6730.png', '../xiao_face_dataset_only_face_test/林詠翔\\\\IMG_7615.png', '../xiao_face_dataset_only_face_test/林詠翔\\\\P_20160227_155314.png', '../xiao_face_dataset_only_face_test/林詠翔\\\\received_120300000705984367.png', '../xiao_face_dataset_only_face_test/林詠翔\\\\received_1268050956549489.png', '../xiao_face_dataset_only_face_test/柳威寧\\\\IMG_0470.png', '../xiao_face_dataset_only_face_test/聶誠漢\\\\IMG_0600.png', '../xiao_face_dataset_only_face_test/陳仕傑\\\\IMG_0422.png', '../xiao_face_dataset_only_face_test/陳仕傑\\\\IMG_0606.png', '../xiao_face_dataset_only_face_test/陳仕傑\\\\received_1272195552801696.png', '../xiao_face_dataset_only_face_test/陳仕傑\\\\received_1859097850993457.png', '../xiao_face_dataset_only_face_test/陳廷冠\\\\IMG_0437.png', '../xiao_face_dataset_only_face_test/陳廷冠\\\\received_120300000689090983.png', '../xiao_face_dataset_only_face_test/陳廷冠\\\\received_1320068878012753.png']\n",
      "Loading feature extraction model\n",
      "Model filename: C:/Users/VIPLAB/models/facenet/20171208_only_3image_8people.pb\n",
      "Calculating features for images\n"
     ]
    }
   ],
   "source": [
    "failed_image_list = []\n",
    "with tf.Graph().as_default():\n",
    "      \n",
    "        with tf.Session() as sess:\n",
    "            \n",
    "            np.random.seed(seed=666)\n",
    "            \n",
    "            \n",
    "            dataset = facenet.get_dataset(data_dir)\n",
    "\n",
    "            # Check that there are at least one training image per class\n",
    "            for cls in dataset:\n",
    "                assert(len(cls.image_paths)>0, 'There must be at least one image for each class in the dataset')            \n",
    "\n",
    "                 \n",
    "            paths, labels = facenet.get_image_paths_and_labels(dataset)\n",
    "            print('Number of classes: %d' % len(dataset))\n",
    "            print('Number of images: %d' % len(paths))\n",
    "            print('paths: %s' % paths)\n",
    "\n",
    "            # Load the model\n",
    "            print('Loading feature extraction model')\n",
    "            facenet.load_model(model)\n",
    "            \n",
    "            # Get input and output tensors\n",
    "            images_placeholder = tf.get_default_graph().get_tensor_by_name(\"input:0\")\n",
    "            embeddings = tf.get_default_graph().get_tensor_by_name(\"embeddings:0\")\n",
    "            phase_train_placeholder = tf.get_default_graph().get_tensor_by_name(\"phase_train:0\")\n",
    "            embedding_size = embeddings.get_shape()[1]\n",
    "            \n",
    "            # Run forward pass to calculate embeddings\n",
    "            print('Calculating features for images')\n",
    "            nrof_images = len(paths)\n",
    "            nrof_batches_per_epoch = int(math.ceil(1.0*nrof_images / batch_size))\n",
    "            emb_array = np.zeros((nrof_images, embedding_size))\n",
    "            for i in range(nrof_batches_per_epoch):\n",
    "                start_index = i*batch_size\n",
    "                end_index = min((i+1)*batch_size, nrof_images)\n",
    "                paths_batch = paths[start_index:end_index]\n",
    "                images = facenet.load_data(paths_batch, False, False, image_size)\n",
    "                feed_dict = { images_placeholder:images, phase_train_placeholder:False }\n",
    "                emb_array[start_index:end_index,:] = sess.run(embeddings, feed_dict=feed_dict)\n",
    "            \n",
    "            classifier_filename_exp = os.path.expanduser(classifier_filename)\n",
    "\n",
    "            if (mode=='TRAIN'):\n",
    "                # Train classifier\n",
    "                print('Training classifier')\n",
    "                model = SVC(kernel='linear', probability=True)\n",
    "                model.fit(emb_array, labels)\n",
    "            \n",
    "                # Create a list of class names\n",
    "                class_names = [ cls.name.replace('_', ' ') for cls in dataset]\n",
    "\n",
    "                # Saving classifier model\n",
    "                with open(classifier_filename_exp, 'wb') as outfile:\n",
    "                    pickle.dump((model, class_names), outfile)\n",
    "                print('Saved classifier model to file \"%s\"' % classifier_filename_exp)\n",
    "                \n",
    "            elif (mode=='CLASSIFY'):\n",
    "                # Classify images\n",
    "                print('Testing classifier')\n",
    "                with open(classifier_filename_exp, 'rb') as infile:\n",
    "                    (model, class_names) = pickle.load(infile)\n",
    "\n",
    "                print('Loaded classifier model from file \"%s\"' % classifier_filename_exp)\n",
    "\n",
    "                predictions = model.predict_proba(emb_array)\n",
    "                best_class_indices = np.argmax(predictions, axis=1)\n",
    "                best_class_probabilities = predictions[np.arange(len(best_class_indices)), best_class_indices]\n",
    "\n",
    "                for i in range(len(best_class_indices)):\n",
    "                    image_name = paths[i].split(\"/\")[-1]\n",
    "                    person_name = image_name.split(\"\\\\\")[0]\n",
    "#                     print('ground truth name %s: my predict = %s' % (, class_names[best_class_indices[i]]))\n",
    "#                     print('%4d  %s: %.3f' % (i, class_names[best_class_indices[i]], best_class_probabilities[i]))\n",
    "                    if(person_name != class_names[best_class_indices[i]]):\n",
    "                        print(image_name)\n",
    "                        failed_image_list.append(paths[i])\n",
    "                        \n",
    "                accuracy = np.mean(np.equal(best_class_indices, labels))\n",
    "                print('Accuracy: %.3f' % accuracy)"
   ]
  },
  {
   "cell_type": "code",
   "execution_count": 55,
   "metadata": {
    "collapsed": true
   },
   "outputs": [],
   "source": [
    "def copy_to_fail_dir(filename, dir_name = \"./failed_dir\"):\n",
    "    copyfile(filename, os.path.join(dir_name, filename.split(\"\\\\\")[-1]))\n",
    "    "
   ]
  },
  {
   "cell_type": "code",
   "execution_count": 59,
   "metadata": {
    "collapsed": true
   },
   "outputs": [],
   "source": [
    "dir_name = \"../failed_dir\"\n",
    "if(not os.path.exists(dir_name)):\n",
    "    os.mkdir(dir_name)\n",
    "for filename in failed_image_list:\n",
    "    copy_to_fail_dir(filename, dir_name = dir_name)"
   ]
  },
  {
   "cell_type": "code",
   "execution_count": null,
   "metadata": {
    "collapsed": true
   },
   "outputs": [],
   "source": []
  }
 ],
 "metadata": {
  "kernelspec": {
   "display_name": "Python 3",
   "language": "python",
   "name": "python3"
  },
  "language_info": {
   "codemirror_mode": {
    "name": "ipython",
    "version": 3
   },
   "file_extension": ".py",
   "mimetype": "text/x-python",
   "name": "python",
   "nbconvert_exporter": "python",
   "pygments_lexer": "ipython3",
   "version": "3.5.4"
  }
 },
 "nbformat": 4,
 "nbformat_minor": 2
}
